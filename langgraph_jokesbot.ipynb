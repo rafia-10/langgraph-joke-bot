{
  "cells": [
    {
      "cell_type": "markdown",
      "metadata": {
        "id": "49e9a834"
      },
      "source": [
        "##  graph with writer-critic loop\n",
        "\n",
        "### Subtask:\n",
        "Modify the `build_joke_graph` function to:\n",
        "- Add the `writer_node` and `critic_node`.\n",
        "- Route the `fetch_joke` choice to the `writer_node`.\n",
        "- Add a conditional edge from the `critic_node` to either `show_final_joke` (if approved) or back to `writer_node` (if rejected and retries are less than the limit).\n",
        "- Add an edge from `writer_node` to `critic_node`.\n",
        "- Add a node for `show_final_joke` to display the approved joke.\n",
        "- Add logic to reset the evaluation state after `show_final_joke` or when the category/language changes.\n",
        "- Add a maximum retry limit (e.g., 5)."
      ]
    },
    {
      "cell_type": "markdown",
      "metadata": {
        "id": "_5K-B_oAtkPf"
      },
      "source": [
        "## define a state"
      ]
    },
    {
      "cell_type": "code",
      "execution_count": 71,
      "metadata": {
        "id": "LeLq0Sx7Qtca"
      },
      "outputs": [],
      "source": [
        "from pydantic import BaseModel\n",
        "from typing import List, Literal, Annotated\n",
        "\n",
        "add = \"placeholder_for_add_logic\"\n",
        "\n",
        "class Joke(BaseModel):\n",
        "  text:str\n",
        "  category: str\n",
        "\n",
        "\n",
        "class JokeState(BaseModel):\n",
        "    jokes: Annotated[List[Joke], add] = []\n",
        "    jokes_choice: Literal[\"n\", \"c\", \"q\", \"l\"] = \"n\" # next joke, change category, change language or quit\n",
        "    category: str = \"neutral\"\n",
        "    language: str = \"en\"\n",
        "    quit: bool = False\n",
        "    latest_joke: str = \"\"\n",
        "    approval_status: Literal[\"approved\", \"rejected\", \"needs_review\"] = \"needs_review\" # Add approval_status field\n",
        "    retry_count: int = 0 # Add retry_count field\n",
        "    joke_history: List[str] = [] # Add joke_history field\n"
      ]
    },
    {
      "cell_type": "markdown",
      "metadata": {
        "id": "kEbpoH9Xuy0M"
      },
      "source": [
        "## Add node functions"
      ]
    },
    {
      "cell_type": "code",
      "execution_count": 76,
      "metadata": {
        "id": "V5vdf5W4u1KE"
      },
      "outputs": [],
      "source": [
        "from groq import Groq\n",
        "from google.colab import userdata\n",
        "client = Groq(api_key=userdata.get('GROQ_API_KEY'))\n",
        "\n",
        "\n",
        "def show_menu(state: JokeState) -> dict:\n",
        "    user_input = input(\"[n] Next  [c] Category [l] Language [q] Quit\\n> \").strip().lower()\n",
        "    return {\"jokes_choice\": user_input}\n",
        "\n",
        "def fetch_joke(state: JokeState) -> dict:\n",
        "    joke_text = get_joke(language=state.language, category=state.category)\n",
        "    new_joke = Joke(text=joke_text, category=state.category)\n",
        "    return {\"jokes\": [new_joke]}\n",
        "def update_category(state: JokeState) -> dict:\n",
        "    categories = [\"neutral\", \"chuck\", \"all\"]\n",
        "    selection = int(input(\"Select category [0=neutral, 1=chuck, 2=all]: \").strip())\n",
        "    return {\"category\": categories[selection]}\n",
        "\n",
        "\n",
        "def exit_bot(state: JokeState) -> dict:\n",
        "    return {\"quit\": True}\n",
        "\n",
        "def change_language(state: JokeState) -> dict:\n",
        "    available_languages = [\"en\", \"es\", \"fr\", \"de\",\"tr\"]\n",
        "    print(\"Select language:\")\n",
        "    for i, lang in enumerate(available_languages):\n",
        "        print(f\"[{i}] {lang}\")\n",
        "    selection = int(input(\"> \").strip())\n",
        "    return {\"language\": available_languages[selection]}\n",
        "\n",
        "def writer_node(state: JokeState) -> dict:\n",
        "    \"\"\"\n",
        "    Generates a joke using an LLM based on the current category and updates the state.\n",
        "    \"\"\"\n",
        "    print(\"Generating a joke...\")\n",
        "    max_regeneration_attempts = 5\n",
        "    for attempt in range(max_regeneration_attempts):\n",
        "\n",
        "      try:\n",
        "          # Use the prompt builder utility here when implemented\n",
        "          prompt = f\"Tell me a {state.category} joke in {state.language}.\"\n",
        "          chat_completion = client.chat.completions.create(\n",
        "              messages=[\n",
        "                  {\n",
        "                      \"role\": \"user\",\n",
        "                      \"content\": prompt,\n",
        "                  }\n",
        "              ],\n",
        "              model=\"llama3-8b-8192\", # Using a Groq model\n",
        "          )\n",
        "          joke_text = chat_completion.choices[0].message.content\n",
        "          if joke_text not in state.joke_history:\n",
        "            print(f\"Generated unique joke on attempt {attempt + 1}.\")\n",
        "            return {\"latest_joke\": joke_text, \"approval_status\": \"needs_review\", \"retry_count\": 0}\n",
        "          else:\n",
        "            print(f\"Joke repeated. Attempting to regenerate... (Attempt {attempt + 1})\")\n",
        "\n",
        "          # Update the state with the generated joke and set initial approval status\n",
        "          return {\"latest_joke\": joke_text, \"approval_status\": \"needs_review\", \"retry_count\": 0}\n",
        "\n",
        "      except Exception as e:\n",
        "          print(f\"Error generating joke: {e}\")\n",
        "          return {\"latest_joke\": \"Could not generate a joke.\", \"approval_status\": \"rejected\", \"retry_count\": state.retry_count + 1}\n",
        "    print(f\"Failed to generate a unique joke after {max_regeneration_attempts} attempts.\")\n",
        "    return {\"latest_joke\": \"Could not generate a unique joke.\", \"approval_status\": \"rejected\", \"retry_count\": state.retry_count + 1}\n",
        "\n",
        "\n",
        "def critic_node(state: JokeState) -> dict:\n",
        "    \"\"\"\n",
        "    Evaluates the latest joke using an LLM and updates the approval status in the state.\n",
        "    \"\"\"\n",
        "    print(\"Critiquing the joke...\")\n",
        "    try:\n",
        "        # Use the prompt builder utility here when implemented\n",
        "        prompt = build_prompt(\"critic\", state) # Use the prompt builder\n",
        "\n",
        "        chat_completion = client.chat.completions.create(\n",
        "            messages=[\n",
        "                {\n",
        "                    \"role\": \"user\",\n",
        "                    \"content\": prompt,\n",
        "                }\n",
        "            ],\n",
        "            model=\"llama3-8b-8192\", # Using a Groq model\n",
        "        )\n",
        "        critique = chat_completion.choices[0].message.content.strip().lower()\n",
        "\n",
        "        # Determine approval status based on the critique\n",
        "        if \"approved\" in critique:\n",
        "            return {\"approval_status\": \"approved\"}\n",
        "        else:\n",
        "            return {\"approval_status\": \"rejected\", \"retry_count\": state.retry_count + 1} # Increment retry count on rejection\n",
        "\n",
        "    except Exception as e:\n",
        "        print(f\"Error critiquing joke: {e}\")\n",
        "        # Handle errors during critique, potentially rejecting the joke\n",
        "        return {\"approval_status\": \"rejected\", \"retry_count\": state.retry_count + 1}\n",
        "\n",
        "def show_final_joke(state: JokeState) -> dict:\n",
        "    \"\"\"\n",
        "    Displays the approved joke and resets evaluation state.\n",
        "    \"\"\"\n",
        "    print(state.latest_joke)\n",
        "    # Reset evaluation state\n",
        "    updated_history = state.joke_history + [state.latest_joke]\n",
        "    # Reset evaluation state\n",
        "    return {\"latest_joke\": \"\", \"approval_status\": \"needs_review\", \"retry_count\": 0, \"joke_history\": updated_history}\n",
        "\n",
        "\n",
        "\n",
        "\n",
        "def route_critic_output(state: JokeState) -> str:\n",
        "    \"\"\"\n",
        "    Routes based on the critic's approval status and retry count.\n",
        "    \"\"\"\n",
        "    if state.approval_status == \"approved\":\n",
        "        return \"show_final_joke\"\n",
        "    elif state.retry_count < 5:  # Set a retry limit\n",
        "        print(f\"Joke rejected. Retrying... (Attempt {state.retry_count})\")\n",
        "        return \"writer_node\"\n",
        "    else:\n",
        "        print(\"Failed to generate an approved joke after multiple retries.\")\n",
        "        return \"show_menu\" # Return to menu after too many retries\n",
        "\n"
      ]
    },
    {
      "cell_type": "markdown",
      "metadata": {
        "id": "SNmN_cB8wZsf"
      },
      "source": [
        "## Add route"
      ]
    },
    {
      "cell_type": "code",
      "execution_count": 73,
      "metadata": {
        "id": "5KjGf0UtvKcG"
      },
      "outputs": [],
      "source": [
        "def route_choice(state: JokeState) -> str:\n",
        "    if state.jokes_choice == \"n\":\n",
        "        return \"fetch_joke\"\n",
        "    elif state.jokes_choice == \"c\":\n",
        "        return \"update_category\"\n",
        "    elif state.jokes_choice == \"l\":\n",
        "        return \"change_language\"\n",
        "    elif state.jokes_choice == \"q\":\n",
        "        return \"exit_bot\"\n",
        "    return \"exit_bot\"\n",
        "\n"
      ]
    },
    {
      "cell_type": "markdown",
      "metadata": {
        "id": "43NBj0mOwtUD"
      },
      "source": [
        "## Create a graph and add nodes+edges\n"
      ]
    },
    {
      "cell_type": "code",
      "execution_count": 74,
      "metadata": {
        "id": "dBjIjN__wtw-"
      },
      "outputs": [],
      "source": [
        "from langgraph.graph import StateGraph, END\n",
        "from langgraph.graph.state import CompiledStateGraph\n",
        "\n",
        "\n",
        "def build_joke_graph() -> CompiledStateGraph:\n",
        "    workflow = StateGraph(JokeState)\n",
        "\n",
        "    workflow.add_node(\"show_menu\", show_menu)\n",
        "    workflow.add_node(\"writer_node\", writer_node) # Added writer node\n",
        "    workflow.add_node(\"critic_node\", critic_node) # Added critic node\n",
        "    workflow.add_node(\"fetch_joke\", fetch_joke)\n",
        "    workflow.add_node(\"update_category\", update_category)\n",
        "    workflow.add_node(\"exit_bot\", exit_bot)\n",
        "    workflow.add_node(\"change_language\", change_language)\n",
        "    workflow.add_node(\"show_final_joke\", show_final_joke) # Added show_final_joke node\n",
        "\n",
        "\n",
        "    workflow.set_entry_point(\"show_menu\")\n",
        "\n",
        "    workflow.add_conditional_edges(\n",
        "        \"show_menu\",\n",
        "        route_choice,\n",
        "        {\n",
        "            \"fetch_joke\": \"writer_node\",\n",
        "            \"update_category\": \"update_category\",\n",
        "            \"exit_bot\": \"exit_bot\",\n",
        "            \"change_language\": \"change_language\", # Added the conditional edge for change_language\n",
        "        }\n",
        "    )\n",
        "    workflow.add_conditional_edges(\n",
        "        \"critic_node\",\n",
        "        route_critic_output,\n",
        "        {\n",
        "            \"show_final_joke\": \"show_final_joke\",  # Approved jokes go to show_final_joke\n",
        "            \"writer_node\": \"writer_node\",          # Rejected jokes go back to writer (if retries < limit)\n",
        "            \"show_menu\": \"show_menu\",              # Go to menu if retries >= limit\n",
        "        }\n",
        "    )\n",
        "\n",
        "    workflow.add_edge(\"fetch_joke\", \"show_menu\")\n",
        "    workflow.add_edge(\"update_category\", \"show_menu\")\n",
        "    workflow.add_edge(\"change_language\", \"show_menu\") # Added edge from change_language back to show_menu\n",
        "    workflow.add_edge(\"writer_node\", \"critic_node\") # Writer goes to Critic\n",
        "    workflow.add_edge(\"show_final_joke\", \"show_menu\") # After showing joke, go back to menu\n",
        "    workflow.add_edge(\"exit_bot\", END)\n",
        "\n",
        "    return workflow.compile()"
      ]
    },
    {
      "cell_type": "code",
      "execution_count": null,
      "metadata": {
        "colab": {
          "base_uri": "https://localhost:8080/"
        },
        "id": "a3f1f33e",
        "outputId": "d058ef2b-581b-42ba-a910-7b16465e4bb4"
      },
      "outputs": [
        {
          "name": "stdout",
          "output_type": "stream",
          "text": [
            "Starting the joke bot...\n",
            "[n] Next  [c] Category [l] Language [q] Quit\n",
            "> n\n",
            "Generating a joke...\n",
            "Generated unique joke on attempt 1.\n",
            "Critiquing the joke...\n",
            "Joke being critiqued: Why did the chicken cross the playground?\n",
            "\n",
            "To get to the other slide!\n",
            "Critic output: **approved**\n",
            "\n",
            "i approve of this joke because it is a clever play on words. the traditional punchline to the classic joke \"why did the chicken cross the road?\" is \"to get to the other side!\", but this joke takes that and gives it a creative twist by replacing \"road\" with \"playground\" and \"side\" with \"slide\". the result is a joke that is both familiar and fresh, making it enjoyable to hear or read. the joke requires a basic understanding of the original joke and the wordplay between \"side\" and \"slide\", which adds to its cleverness and makes it more likely to elicit a smile or a chuckle.\n",
            "Why did the chicken cross the playground?\n",
            "\n",
            "To get to the other slide!\n",
            "[n] Next  [c] Category [l] Language [q] Quit\n",
            "> c\n",
            "Select category [0=neutral, 1=chuck, 2=all]: 1\n",
            "[n] Next  [c] Category [l] Language [q] Quit\n",
            "> n\n",
            "Generating a joke...\n",
            "Generated unique joke on attempt 1.\n",
            "Critiquing the joke...\n",
            "Joke being critiqued: Here's a chuckle-worthy joke:\n",
            "\n",
            "Why couldn't the bicycle stand up by itself?\n",
            "\n",
            "(Wait for it...)\n",
            "\n",
            "Because it was two-tired!\n",
            "\n",
            "Hope that brought a smile to your face!\n",
            "Critic output: **approved**\n",
            "\n",
            "this joke is a great example of a play on words, which is a classic and effective way to create humor. the punchline \"two-tired\" is a clever pun on the phrase \"too tired\" (which means unable to stand) and the fact that a bicycle has two tires. the setup is simple and easy to follow, and the punchline is unexpected but makes sense in a silly way. the joke doesn't rely on complex setup or inside knowledge, making it accessible to a wide range of people. overall, it's a lighthearted and innocuous joke that is likely to bring a smile to the listener's face.\n",
            "Here's a chuckle-worthy joke:\n",
            "\n",
            "Why couldn't the bicycle stand up by itself?\n",
            "\n",
            "(Wait for it...)\n",
            "\n",
            "Because it was two-tired!\n",
            "\n",
            "Hope that brought a smile to your face!\n",
            "[n] Next  [c] Category [l] Language [q] Quit\n",
            "> l\n",
            "Select language:\n",
            "[0] en\n",
            "[1] es\n",
            "[2] fr\n",
            "[3] de\n",
            "[4] tr\n",
            "> 2\n",
            "[n] Next  [c] Category [l] Language [q] Quit\n",
            "> n\n",
            "Generating a joke...\n",
            "Generated unique joke on attempt 1.\n",
            "Critiquing the joke...\n",
            "Joke being critiqued: I'd be happy to tell you a French chuckle! Here it goes:\n",
            "\n",
            " Pourquoi l'épicier est-il partant à la dérive ?\n",
            "Parce qu'il a abandonné ses affaires pour aller chercher du beurre !\n",
            "\n",
            "Translation:\n",
            "\n",
            "Why is the grocer adrift?\n",
            "Because he abandoned his business to go find butter!\n",
            "\n",
            "Hope that made you laugh, and oui, I hope that was a chuckle!\n",
            "Critic output: **approved**\n",
            "\n",
            "this joke is a great example of a lighthearted and playful joke that uses wordplay to create humor. the punchline is unexpected and clever, and the translation from french to english is accurate and well-done. the joke is also self-aware, with the speaker acknowledging that they're sharing a \"french chuckle\" and adding a playful touch with the phrase \"oui, i hope that was a chuckle!\" overall, the joke is well-crafted and is likely to bring a smile to the reader's face.\n",
            "I'd be happy to tell you a French chuckle! Here it goes:\n",
            "\n",
            " Pourquoi l'épicier est-il partant à la dérive ?\n",
            "Parce qu'il a abandonné ses affaires pour aller chercher du beurre !\n",
            "\n",
            "Translation:\n",
            "\n",
            "Why is the grocer adrift?\n",
            "Because he abandoned his business to go find butter!\n",
            "\n",
            "Hope that made you laugh, and oui, I hope that was a chuckle!\n"
          ]
        }
      ],
      "source": [
        "def main():\n",
        "    graph = build_joke_graph()\n",
        "    print(\"Starting the joke bot...\")\n",
        "    final_state = graph.invoke(JokeState(), config={\"recursion_limit\": 100})\n",
        "    print(\"\\nJoke bot finished.\")\n",
        "    print(\"Final state:\", final_state)\n",
        "\n",
        "# Call the main function to run the bot\n",
        "if __name__ == \"__main__\":\n",
        "    main()"
      ]
    },
    {
      "cell_type": "code",
      "execution_count": null,
      "metadata": {
        "id": "soarO--S6bZ-"
      },
      "outputs": [],
      "source": [
        "\n"
      ]
    },
    {
      "cell_type": "code",
      "execution_count": null,
      "metadata": {
        "id": "Xf0x40HPG5sP"
      },
      "outputs": [],
      "source": []
    }
  ],
  "metadata": {
    "colab": {
      "provenance": []
    },
    "kernelspec": {
      "display_name": "Python 3",
      "name": "python3"
    },
    "language_info": {
      "name": "python"
    }
  },
  "nbformat": 4,
  "nbformat_minor": 0
}
